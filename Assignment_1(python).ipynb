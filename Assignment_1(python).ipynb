{
 "cells": [
  {
   "attachments": {
    "78f67e0f-9218-4e2b-9fb7-211627f5b108.png": {
     "image/png": "[encoded data removed]"
    }
   },
   "cell_type": "markdown",
   "id": "a75f3371-fd5f-44c1-8c64-3db68d062eb8",
   "metadata": {},
   "source": [
    "![Screenshot 2024-02-04 225401.png](attachment:78f67e0f-9218-4e2b-9fb7-211627f5b108.png)"
   ]
  },
  {
   "cell_type": "markdown",
   "id": "8deaeb76-1459-4a61-928c-ab2e998a7de1",
   "metadata": {},
   "source": [
    "### -> Solution Question 1 "
   ]
  },
  {
   "cell_type": "markdown",
   "id": "54a46b44-8fed-459f-8a90-f21670cca774",
   "metadata": {},
   "source": [
    " ##### In the list you provided, the values and expressions can be identified as follows:"
   ]
  },
  {
   "cell_type": "markdown",
   "id": "367db928-06c3-424f-ab43-40dced36317f",
   "metadata": {},
   "source": [
    "##### Values"
   ]
  },
  {
   "cell_type": "markdown",
   "id": "1ccec879-fb4f-4b78-9970-6aa696347848",
   "metadata": {},
   "source": [
    "##### => 'hello'(string)\n",
    "##### => -87.8(float)\n",
    "##### => 6(int) "
   ]
  },
  {
   "cell_type": "markdown",
   "id": "c978d61d-cb24-4cb4-83b7-8668a8905fcf",
   "metadata": {},
   "source": [
    "#### expression(mathematical operations)"
   ]
  },
  {
   "cell_type": "markdown",
   "id": "7bf1cf22-d428-419f-b11c-3a386596c3ee",
   "metadata": {},
   "source": [
    "##### => * (multiplication)\n",
    "##### => + (addition)\n",
    "##### => - (subtraction)\n",
    "##### => / (division)"
   ]
  },
  {
   "cell_type": "markdown",
   "id": "f7ebb41c-466c-4df0-89ea-96d430a02ed9",
   "metadata": {},
   "source": [
    "#### Values: 'hello', -87.8, 6\n",
    "####  Expressions: *, -, /, ++"
   ]
  },
  {
   "cell_type": "markdown",
   "id": "e842075f-2de4-455c-af1e-aaf6a68a21fa",
   "metadata": {},
   "source": [
    "### -----------------------------------------------------------------------------------------------------------------------------------"
   ]
  },
  {
   "attachments": {
    "2e649a87-9ed6-47db-a939-855af86078f8.png": {
     "image/png": "[encoded data removed]"
    }
   },
   "cell_type": "markdown",
   "id": "b64390ce-f7f4-40e8-8cc7-d9d4a7c4187d",
   "metadata": {},
   "source": [
    "![Screenshot 2024-02-04 231142.png](attachment:2e649a87-9ed6-47db-a939-855af86078f8.png)"
   ]
  },
  {
   "cell_type": "markdown",
   "id": "226ec9e3-2677-4ef8-bb99-bba48d6984f3",
   "metadata": {},
   "source": [
    "### -> Solution Question 2"
   ]
  },
  {
   "cell_type": "markdown",
   "id": "1031d90e-4fc7-4a0f-8b29-f0d3d313d669",
   "metadata": {},
   "source": [
    "#### A string and a variable are two different concepts in programming:"
   ]
  },
  {
   "cell_type": "markdown",
   "id": "f7b5824b-0dce-4eef-9cb7-7ff4185e89cb",
   "metadata": {},
   "source": [
    "### String"
   ]
  },
  {
   "cell_type": "markdown",
   "id": "079bbc81-c19a-4ffc-a576-dca3be3bdb9c",
   "metadata": {},
   "source": [
    "#### 1. string is a datatype in programming that is use to represent the text\n"
   ]
  },
  {
   "cell_type": "markdown",
   "id": "43ca0bb3-ed46-465c-a7bf-a45a26dcbc91",
   "metadata": {},
   "source": [
    "#### 2. string is a sequence of characters , that contains alphabets, numbers, symbols and spaces "
   ]
  },
  {
   "cell_type": "markdown",
   "id": "0cbf8ca7-b7c9-4479-977a-807a80b3dd49",
   "metadata": {},
   "source": [
    "#### 3. string are typincaly use for store and manipulate textual data"
   ]
  },
  {
   "cell_type": "markdown",
   "id": "e0bd0b90-271f-4e8b-96eb-524466fbc4eb",
   "metadata": {},
   "source": [
    "#### 4. In many programming langauge we inclosed  the string in single inverted commas('') or double inverted commas(\"\")"
   ]
  },
  {
   "cell_type": "markdown",
   "id": "a2f45663-3722-4daa-aa32-c1790985dfd6",
   "metadata": {},
   "source": [
    "### Example"
   ]
  },
  {
   "cell_type": "code",
   "execution_count": 5,
   "id": "8c43a5cb-8363-4c5d-aa04-c45ec22330d5",
   "metadata": {},
   "outputs": [
    {
     "name": "stdout",
     "output_type": "stream",
     "text": [
      "hey hello world\n"
     ]
    }
   ],
   "source": [
    "my_string = \"hey hello world\"\n",
    "print(my_string)"
   ]
  },
  {
   "cell_type": "markdown",
   "id": "4de281e6-3463-4a5e-a10c-15707ed113b0",
   "metadata": {},
   "source": [
    "### variable"
   ]
  },
  {
   "cell_type": "markdown",
   "id": "7c5ab82a-7f5f-436f-85df-af5179cfb27b",
   "metadata": {},
   "source": [
    "#### 1. A variable is a container or name storage loacation in program's memory"
   ]
  },
  {
   "cell_type": "markdown",
   "id": "bd93a3ce-02fa-4aa7-abfe-56d07a7d1118",
   "metadata": {},
   "source": [
    "#### 2.It hold values or refernce to the value "
   ]
  },
  {
   "cell_type": "markdown",
   "id": "b4f7312a-d10e-4a02-8b3f-bc5fa0058fe4",
   "metadata": {},
   "source": [
    "#### 3. variable are used to store and manage the data during the program execution"
   ]
  },
  {
   "cell_type": "markdown",
   "id": "4a15e863-448c-4a18-a7f2-c52038628183",
   "metadata": {},
   "source": [
    " #### 4. the data types can be vary. it can be string, integer, flaot . depending ont he   particular langauge"
   ]
  },
  {
   "cell_type": "markdown",
   "id": "539b6845-c02a-44c1-a1db-13d4f2d91618",
   "metadata": {},
   "source": [
    "### Example"
   ]
  },
  {
   "cell_type": "code",
   "execution_count": 7,
   "id": "879b0bbb-10ab-4f83-a546-289312157196",
   "metadata": {},
   "outputs": [
    {
     "name": "stdout",
     "output_type": "stream",
     "text": [
      "The integer variable is :  87\n",
      "The string variable is :  ajay ch\n"
     ]
    }
   ],
   "source": [
    "my_int_variable = 87\n",
    "\n",
    "my_string_variable =\"ajay ch\"\n",
    "\n",
    "print(\"The integer variable is : \", my_int_variable )\n",
    "print(\"The string variable is : \", my_string_variable)"
   ]
  },
  {
   "cell_type": "markdown",
   "id": "be051a2d-6a03-46fd-aaf6-9726a89ba029",
   "metadata": {},
   "source": [
    "### -----------------------------------------------------------------------------------------------------------------------------------"
   ]
  },
  {
   "attachments": {
    "1ca23cd5-4cb0-4f3e-b1b2-63fc1d2e2fb5.png": {
     "image/png": "[encoded data removed]"
    }
   },
   "cell_type": "markdown",
   "id": "fd36d136-435b-4010-93ff-7b77d77960fb",
   "metadata": {},
   "source": [
    "![Screenshot 2024-02-04 232756.png](attachment:1ca23cd5-4cb0-4f3e-b1b2-63fc1d2e2fb5.png)"
   ]
  },
  {
   "cell_type": "markdown",
   "id": "44201e00-7213-4e22-bf34-8a680d5d44dc",
   "metadata": {},
   "source": [
    "## Solution Question 3"
   ]
  },
  {
   "cell_type": "markdown",
   "id": "557d0431-206b-4267-9475-794fb50206ec",
   "metadata": {},
   "source": [
    "### there are variour type of data types  here we talk about three"
   ]
  },
  {
   "cell_type": "markdown",
   "id": "893067e7-8405-464b-b45e-61cce432104f",
   "metadata": {},
   "source": [
    "#### 1.  int(integer)\n"
   ]
  },
  {
   "cell_type": "markdown",
   "id": "a739ef4f-8962-4f1a-99ce-0d6f6f55e208",
   "metadata": {},
   "source": [
    "#### 2. float"
   ]
  },
  {
   "cell_type": "markdown",
   "id": "2ce473e8-bb17-4251-9ada-a50b5da34899",
   "metadata": {},
   "source": [
    "#### 3. string"
   ]
  },
  {
   "cell_type": "markdown",
   "id": "e47a4308-0196-40d0-a002-40d6b9b04953",
   "metadata": {},
   "source": [
    "### int(integer)"
   ]
  },
  {
   "cell_type": "markdown",
   "id": "71137401-791a-4faf-8e6a-a7cda18a66ce",
   "metadata": {},
   "source": [
    "#### 1. intergers are the data types which consist of the whole number except the fractional part"
   ]
  },
  {
   "cell_type": "markdown",
   "id": "b35a8cde-05fb-4d3c-88a3-263e1c96aa27",
   "metadata": {},
   "source": [
    "#### 2. examples of integers are 3, 6 , -5 etc."
   ]
  },
  {
   "cell_type": "markdown",
   "id": "92798425-4039-444a-82b4-426537a5d4e3",
   "metadata": {},
   "source": [
    "#### 3. The integer can be  positive or negative"
   ]
  },
  {
   "cell_type": "code",
   "execution_count": 10,
   "id": "33b134af-0648-495a-9217-f62e6f5e00e2",
   "metadata": {},
   "outputs": [
    {
     "name": "stdin",
     "output_type": "stream",
     "text": [
      "enter the number 6\n"
     ]
    },
    {
     "name": "stdout",
     "output_type": "stream",
     "text": [
      "<class 'int'>\n"
     ]
    }
   ],
   "source": [
    "n = int (input(\"enter the number\"))\n",
    "\n",
    "print(type(n))"
   ]
  },
  {
   "cell_type": "markdown",
   "id": "6bd7d017-23c7-41d6-8d77-c33fbed83d55",
   "metadata": {},
   "source": [
    "### float"
   ]
  },
  {
   "cell_type": "markdown",
   "id": "31fe938b-97c5-404a-9be1-bc4f82a461c0",
   "metadata": {},
   "source": [
    "#### 1. A float, or a flaoting number is a type of data type that represent number wit a decimal point"
   ]
  },
  {
   "cell_type": "markdown",
   "id": "29abf5e0-be83-4d8d-981a-555744ff1f3f",
   "metadata": {},
   "source": [
    "#### 2. exmaple of float is 2.0 , 3.4 , 45.9 etc"
   ]
  },
  {
   "cell_type": "markdown",
   "id": "2a08317e-7b90-43fe-a6b9-6797fdab4b56",
   "metadata": {},
   "source": [
    "#### 3. floats are used to represent the real number or in other word the exact number that have a decimal value"
   ]
  },
  {
   "cell_type": "code",
   "execution_count": 12,
   "id": "938f855d-9a25-41fe-99ff-bec55ff2dbd8",
   "metadata": {},
   "outputs": [
    {
     "name": "stdin",
     "output_type": "stream",
     "text": [
      "enter the number 3.4\n"
     ]
    },
    {
     "name": "stdout",
     "output_type": "stream",
     "text": [
      "<class 'float'>\n"
     ]
    }
   ],
   "source": [
    "n = float(input(\"enter the number\"))\n",
    "\n",
    "print(type(n))"
   ]
  },
  {
   "cell_type": "markdown",
   "id": "b3fc932b-19c7-4e01-b5ac-32a76c4e4200",
   "metadata": {},
   "source": [
    "### string"
   ]
  },
  {
   "cell_type": "markdown",
   "id": "46ed86b9-8e0a-44b6-b2f7-c7589c174673",
   "metadata": {},
   "source": [
    "#### 1. string is a datatype in programming that is use to represent the textt\"\")"
   ]
  },
  {
   "cell_type": "markdown",
   "id": "dd0302f3-4a09-41de-b490-d6f2a3c578ec",
   "metadata": {},
   "source": [
    "#### 2. string is a sequence of characters , that contains alphabets, numbers, symbols and spaces"
   ]
  },
  {
   "cell_type": "markdown",
   "id": "d4803451-c820-4e06-bafa-d60f4aa87c8b",
   "metadata": {},
   "source": [
    "#### 3. string are typincaly use for store and manipulate textual data"
   ]
  },
  {
   "cell_type": "markdown",
   "id": "a087b381-4320-4105-9e7a-ce3ab67a678c",
   "metadata": {},
   "source": [
    "#### 4. In many programming langauge we inclosed the string in single inverted commas('') or double inverted commas(\"\")"
   ]
  },
  {
   "cell_type": "code",
   "execution_count": 13,
   "id": "bcb6c3be-1943-42fe-99ed-7ae4e846d9f3",
   "metadata": {},
   "outputs": [
    {
     "name": "stdin",
     "output_type": "stream",
     "text": [
      "enter your name ajay\n"
     ]
    },
    {
     "name": "stdout",
     "output_type": "stream",
     "text": [
      "ajay\n",
      "<class 'str'>\n"
     ]
    }
   ],
   "source": [
    "n = input(\"enter your name\")\n",
    "\n",
    "print(n)\n",
    "\n",
    "print(type(n))"
   ]
  },
  {
   "cell_type": "markdown",
   "id": "65b3f41c-403b-4723-933c-27353dfc07f5",
   "metadata": {},
   "source": [
    "### -----------------------------------------------------------------------------------------------------------------------------------"
   ]
  },
  {
   "attachments": {
    "6414f475-fe57-4b9d-93e2-197e55ca1350.png": {
     "image/png": "[encoded data removed]"
    }
   },
   "cell_type": "markdown",
   "id": "5295f5ae-5216-44ed-a350-5ca507567671",
   "metadata": {},
   "source": [
    "![Screenshot 2024-02-05 110056.png](attachment:6414f475-fe57-4b9d-93e2-197e55ca1350.png)"
   ]
  },
  {
   "cell_type": "markdown",
   "id": "29aa21e6-7bcb-44ee-b3ae-4487b17d5d5b",
   "metadata": {},
   "source": [
    "## Solution Question 4"
   ]
  },
  {
   "cell_type": "markdown",
   "id": "7c912f81-d15e-43f5-82a7-52b23739af05",
   "metadata": {},
   "source": [
    "## Expression"
   ]
  },
  {
   "cell_type": "markdown",
   "id": "48b7d52a-bf3a-4d4f-9f6d-9d957956c44b",
   "metadata": {},
   "source": [
    "#### An expression in programming is a combination of values, variables, operators, and function calls that can be use to produce a specific result. It  represents a computation that, when executed, gives a specific value. Expressions are fundamental building blocks in programming languages and are used to perform various operations, calculations, and manipulations of data. we writea expression to solve a particular problem to get a needed output that we need"
   ]
  },
  {
   "cell_type": "markdown",
   "id": "2d6ea16e-a7ae-49e2-b731-076158765821",
   "metadata": {},
   "source": [
    "#### ... There are 4 types of componentes of a expression"
   ]
  },
  {
   "cell_type": "markdown",
   "id": "5e406007-af97-40a1-8514-572f35fcf8e7",
   "metadata": {},
   "source": [
    "#### 1. Values - they  are either a  number or a string .there are also called the basic data types  it consists string, boolen, numbers etc"
   ]
  },
  {
   "cell_type": "markdown",
   "id": "b0c00514-1927-4c41-bb9c-7830bb580cb7",
   "metadata": {},
   "source": [
    "#### 2. Variable - A variable is a container or name storage loacation in program's memory"
   ]
  },
  {
   "cell_type": "markdown",
   "id": "c6fc8412-18eb-413d-9c1a-e0a0fb40c09c",
   "metadata": {},
   "source": [
    "#### 3. Operators - they are the symbols that use to perform a specific operations  such as arthamatic operators(+ , - , *)  , relational operator(==,<,>) etc."
   ]
  },
  {
   "cell_type": "markdown",
   "id": "47af2b5f-ace2-4d84-8542-00328f05ef8b",
   "metadata": {},
   "source": [
    "####  4. function cell - the cell wheere we write the  instruction or  tell the programming langauge that what we want to do . or how we can solve the particular problem to get a specific ouptut"
   ]
  },
  {
   "cell_type": "code",
   "execution_count": 2,
   "id": "f40a9b3e-6047-499f-b79a-c513c1af181a",
   "metadata": {},
   "outputs": [
    {
     "name": "stdin",
     "output_type": "stream",
     "text": [
      "enter a number 4\n",
      "enter a number 5\n"
     ]
    },
    {
     "name": "stdout",
     "output_type": "stream",
     "text": [
      "41\n"
     ]
    }
   ],
   "source": [
    "a = int(input(\"enter a number\"));\n",
    "b = int(input(\"enter a number\"));\n",
    "result = (a**2 + b**2)\n",
    "print( result)"
   ]
  },
  {
   "cell_type": "markdown",
   "id": "7b0ed77c-b963-4194-91a8-0ff29cea850d",
   "metadata": {},
   "source": [
    "### -----------------------------------------------------------------------------------------------------------------------------------"
   ]
  },
  {
   "attachments": {
    "1ccdaa5a-45c9-421e-b111-8c3b9608b5f6.png": {
     "image/png": "[encoded data removed]"
    }
   },
   "cell_type": "markdown",
   "id": "2cfd7a17-f881-44c4-b114-7ed6fc604243",
   "metadata": {},
   "source": [
    "![Screenshot 2024-02-05 112711.png](attachment:1ccdaa5a-45c9-421e-b111-8c3b9608b5f6.png)"
   ]
  },
  {
   "cell_type": "markdown",
   "id": "df09c1dd-888a-4b4d-b7c7-eae26f55f802",
   "metadata": {},
   "source": [
    "## Solution Question 5"
   ]
  },
  {
   "cell_type": "markdown",
   "id": "6f33abea-85a9-4f0f-9e45-ea9cdea9a436",
   "metadata": {},
   "source": [
    "### Expression"
   ]
  },
  {
   "cell_type": "markdown",
   "id": "60629c04-74fc-41cd-9776-d538d6f3c7fd",
   "metadata": {},
   "source": [
    "#### 1.An expression is a combination of values, variables, operators, and function calls that can be evaluated to produce a result.3)"
   ]
  },
  {
   "cell_type": "markdown",
   "id": "a8db7162-52b3-406e-b2e9-5816d3c859e5",
   "metadata": {},
   "source": [
    "#### 2.It always returns a value."
   ]
  },
  {
   "cell_type": "markdown",
   "id": "a10d1897-6d9f-44ac-8235-f965af90f317",
   "metadata": {},
   "source": [
    "#### 3.Examples of expressions include mathematical calculations (2 + 3) , referneces('spam'), function call(len(\"hello world\"))"
   ]
  },
  {
   "cell_type": "code",
   "execution_count": 7,
   "id": "af9753b9-f22d-4935-aa25-45a62471985b",
   "metadata": {},
   "outputs": [
    {
     "name": "stdout",
     "output_type": "stream",
     "text": [
      "18\n"
     ]
    }
   ],
   "source": [
    "result = 2*(4+5)\n",
    "print(result)\n"
   ]
  },
  {
   "cell_type": "markdown",
   "id": "8d66e1a5-a013-42d6-bd3a-e22da543d808",
   "metadata": {},
   "source": [
    "### Statement"
   ]
  },
  {
   "cell_type": "markdown",
   "id": "4286bd13-4dde-4e4e-b308-5b431eb0e4ac",
   "metadata": {},
   "source": [
    "#### 1.A statement is a complete line of code or a solution of a particular problem to perform a  particular action"
   ]
  },
  {
   "cell_type": "markdown",
   "id": "2d1c001f-142b-4cc5-8336-39e0e2f6621d",
   "metadata": {},
   "source": [
    "#### 2. It is not nessarily  return a value from a statement"
   ]
  },
  {
   "cell_type": "markdown",
   "id": "728f7e38-48e1-4bd8-8011-23a91f4f1c88",
   "metadata": {},
   "source": [
    "#### 3. assignment statement control the flow of statement (if, while ,for) example is below"
   ]
  },
  {
   "cell_type": "code",
   "execution_count": null,
   "id": "9e180a1c-5de4-4bba-9323-ff92dcf568d9",
   "metadata": {},
   "outputs": [],
   "source": [
    "spam = 10\n",
    "#In this case, spam = 10 is an assignment statement. It assigns the value 10 to the variable spam."
   ]
  },
  {
   "cell_type": "markdown",
   "id": "fdcfca81-b962-4757-9c23-28605dc12d04",
   "metadata": {},
   "source": [
    "### -----------------------------------------------------------------------------------------------------------------------------------"
   ]
  },
  {
   "attachments": {
    "eeb4d227-4893-45f4-ba81-b7d73b0fc74c.png": {
     "image/png": "[encoded data removed]"
    }
   },
   "cell_type": "markdown",
   "id": "719f9a25-052d-455a-8230-f215117b8890",
   "metadata": {},
   "source": [
    "![Screenshot 2024-02-05 113921.png](attachment:eeb4d227-4893-45f4-ba81-b7d73b0fc74c.png)"
   ]
  },
  {
   "cell_type": "markdown",
   "id": "d18ffd29-6baa-4918-8ba5-3e09a8cbee08",
   "metadata": {},
   "source": [
    "## Solution Question 6"
   ]
  },
  {
   "cell_type": "markdown",
   "id": "fc2b2c73-c88f-4db2-9250-f1c141ea9373",
   "metadata": {},
   "source": [
    "#### The variable bacon is assigned the value 22. However, the second line (bacon + 1) is an expression that calculates bacon + 1 but doesn't modify the value of bacon itself or store the result anywhere  and if we want to modify the value of  bacon than wee use this code that I have given below."
   ]
  },
  {
   "cell_type": "code",
   "execution_count": 8,
   "id": "7c2f2002-5f3d-48d2-9ed3-d5c99195722e",
   "metadata": {},
   "outputs": [
    {
     "name": "stdout",
     "output_type": "stream",
     "text": [
      "23\n"
     ]
    }
   ],
   "source": [
    "bacon = 22 \n",
    "bacon += 1 \n",
    "print(bacon)"
   ]
  },
  {
   "cell_type": "markdown",
   "id": "6309e7bf-13fa-478f-9d4a-64f65ceeead8",
   "metadata": {},
   "source": [
    "#### Here in the question the variable bacon contaion the value 22 as this can assign and the bacon + 1 is in next line can give a value of 23 but   here the value of  baocn is not modified and this 23 value  that we get after  bacon + 1  is store anywhere"
   ]
  },
  {
   "cell_type": "markdown",
   "id": "a396f3a2-1e14-4d85-9f20-474a054a62fb",
   "metadata": {},
   "source": [
    "### -----------------------------------------------------------------------------------------------------------------------------------"
   ]
  },
  {
   "attachments": {
    "bfffd56b-2f4b-4824-ba43-f569431c8926.png": {
     "image/png": "[encoded data removed]"
    }
   },
   "cell_type": "markdown",
   "id": "85312cbe-0cb5-460a-aa57-be747e0e565f",
   "metadata": {},
   "source": [
    "![Screenshot 2024-02-05 114606.png](attachment:bfffd56b-2f4b-4824-ba43-f569431c8926.png)"
   ]
  },
  {
   "cell_type": "markdown",
   "id": "4b91ffd8-e2d9-4c07-ae34-ad84ec573ee4",
   "metadata": {},
   "source": [
    "## Solution Question 7"
   ]
  },
  {
   "cell_type": "markdown",
   "id": "b36adf0b-1f49-4529-bb48-d2c6107d7c1c",
   "metadata": {},
   "source": [
    "#### 1. 'spam' + 'spamspam'"
   ]
  },
  {
   "cell_type": "markdown",
   "id": "b97ae2c9-6bb3-4665-bfd1-b9ba6b6ac048",
   "metadata": {},
   "source": [
    "#### =>  this envolves string concatination , so it combine the strings , 'spam' and 'spamspam'"
   ]
  },
  {
   "cell_type": "markdown",
   "id": "00742396-33b5-43a6-92c8-165880ec2005",
   "metadata": {},
   "source": [
    "##### ......... so the result of this we get 'spamspamspam'"
   ]
  },
  {
   "cell_type": "markdown",
   "id": "b97ba00b-f66b-4d9d-b238-1f3b34064e6a",
   "metadata": {},
   "source": [
    " #### 2. 'spam'*3"
   ]
  },
  {
   "cell_type": "markdown",
   "id": "e886b487-cd9d-43b6-a8ef-4238e5279594",
   "metadata": {},
   "source": [
    "#### => this involves the  string repetation, so it repeat the string according the number that we have given... here   tha  string repeat for the three times"
   ]
  },
  {
   "cell_type": "markdown",
   "id": "359fca76-ce1b-4a12-a0a1-adbca6afbf13",
   "metadata": {},
   "source": [
    "##### ......... so the result we get 'spamspamspam'"
   ]
  },
  {
   "cell_type": "markdown",
   "id": "1779c5c5-5543-49ac-9c0d-9271a8a99c52",
   "metadata": {},
   "source": [
    "#### As we se in both case the result is same but  the method was different"
   ]
  },
  {
   "cell_type": "markdown",
   "id": "66d76d9b-9e6f-4920-84a5-757f736c4958",
   "metadata": {},
   "source": [
    "### -----------------------------------------------------------------------------------------------------------------------------------"
   ]
  },
  {
   "attachments": {
    "2a032a09-a578-4eb6-a592-28dfddee42cf.png": {
     "image/png": "[encoded data removed]"
    }
   },
   "cell_type": "markdown",
   "id": "b0a19229-8509-4f4f-9162-5b2c3a85b7ec",
   "metadata": {},
   "source": [
    "![Screenshot 2024-02-05 115714.png](attachment:2a032a09-a578-4eb6-a592-28dfddee42cf.png)"
   ]
  },
  {
   "cell_type": "markdown",
   "id": "4728c396-2148-4081-8bb0-550739617d85",
   "metadata": {},
   "source": [
    "## Solution Question 8"
   ]
  },
  {
   "cell_type": "markdown",
   "id": "18600aa9-7e95-4c59-b974-d944a03b1287",
   "metadata": {},
   "source": [
    "### In most programming languages, variable names follow certain rules and conventions. The rules for variable names can vary between languages, but they typically share some common principles. and the same  guidelines to give a name to a variabele the rules are below:"
   ]
  },
  {
   "cell_type": "markdown",
   "id": "94e245ab-2433-4243-97b9-042010a45f4d",
   "metadata": {},
   "source": [
    "### 1. Start name with a letter or a underscore"
   ]
  },
  {
   "cell_type": "markdown",
   "id": "e197bff4-e3cd-41bd-9e8b-0837ea157563",
   "metadata": {},
   "source": [
    "##### ... the varible name should be start with the  letters (a to z) or with the undeerscore(_)"
   ]
  },
  {
   "cell_type": "markdown",
   "id": "8c0ef266-7900-4827-be07-5edd8af2098c",
   "metadata": {},
   "source": [
    "###### ...... for ex. _ajay , ineuron_ajay etc "
   ]
  },
  {
   "cell_type": "markdown",
   "id": "a0c9ad68-347e-4bff-94ef-bc2e0839a326",
   "metadata": {},
   "source": [
    "#### 2. The variable name should be Followed by letters, numbers, or underscores no special character like '@' allowed"
   ]
  },
  {
   "cell_type": "markdown",
   "id": "b8f79cda-930b-466a-8060-e9ec9ece7be1",
   "metadata": {},
   "source": [
    "##### ... after the intinal name we can use the numbers underscores underscores as we want"
   ]
  },
  {
   "cell_type": "markdown",
   "id": "5d2f63b2-161d-477e-b9b8-1b2fd2d2cce7",
   "metadata": {},
   "source": [
    "###### ..... for ex.  ajay_2822 etc"
   ]
  },
  {
   "cell_type": "markdown",
   "id": "86235f46-ad07-4af6-a89b-0aeef8ff8d05",
   "metadata": {},
   "source": [
    "### Now come to the examples that you have provided in question   .\n",
    "\n"
   ]
  },
  {
   "cell_type": "markdown",
   "id": "d65a2111-2179-49cd-8c81-4c9c59421595",
   "metadata": {},
   "source": [
    "#### Here we clearly see that  the word egg was  start with the letters as written in rules although the  100 is not vaild because it is number and we know that we cannot use the  number as strt in the  variable name we can use this in this way _100"
   ]
  },
  {
   "cell_type": "markdown",
   "id": "f80064c8-5f14-4324-b5ca-5b52936e01d1",
   "metadata": {},
   "source": [
    "### -----------------------------------------------------------------------------------------------------------------------------------"
   ]
  },
  {
   "attachments": {
    "d3291200-6249-4f1a-a1de-f0a0d32a7a1c.png": {
     "image/png": "[encoded data removed]"
    }
   },
   "cell_type": "markdown",
   "id": "b408c7dd-56d6-4803-8122-e7e5052fad01",
   "metadata": {},
   "source": [
    "![Screenshot 2024-02-05 120846.png](attachment:d3291200-6249-4f1a-a1de-f0a0d32a7a1c.png)"
   ]
  },
  {
   "cell_type": "markdown",
   "id": "f80866ae-baf4-479c-93a1-dda69dbbeb4b",
   "metadata": {},
   "source": [
    " ### Solution Question 9"
   ]
  },
  {
   "cell_type": "markdown",
   "id": "ada52cdb-54e2-4919-8165-366b8381fa38",
   "metadata": {},
   "source": [
    "#### In Python, we can use the following three functions to obtain the integer, floating-point number, or string version of a value"
   ]
  },
  {
   "cell_type": "markdown",
   "id": "d889e2cb-296b-478f-ac33-302868118681",
   "metadata": {},
   "source": [
    "#### 1. int() - it is use to convert the float value into the interger value  "
   ]
  },
  {
   "cell_type": "code",
   "execution_count": 9,
   "id": "446e1df3-fe75-44d5-9a52-f1f591854090",
   "metadata": {},
   "outputs": [
    {
     "name": "stdout",
     "output_type": "stream",
     "text": [
      "34\n"
     ]
    }
   ],
   "source": [
    "float_num = 34.64;\n",
    "\n",
    "integer_value = int(float_num)\n",
    "\n",
    "print(integer_value)"
   ]
  },
  {
   "cell_type": "markdown",
   "id": "4b20183d-e940-4b9d-a38d-c0f441ac4f97",
   "metadata": {},
   "source": [
    "#### 2. float() - it is use to convert the integer value into the  float value"
   ]
  },
  {
   "cell_type": "code",
   "execution_count": 10,
   "id": "42fd8e38-344a-40c5-9c4a-21ab7b37c308",
   "metadata": {},
   "outputs": [
    {
     "name": "stdout",
     "output_type": "stream",
     "text": [
      "16.0\n"
     ]
    }
   ],
   "source": [
    "integer_num = 16;\n",
    "\n",
    "float_value = float(integer_num)\n",
    "\n",
    "print(float_value)"
   ]
  },
  {
   "cell_type": "markdown",
   "id": "d5b5e8f3-301f-4880-8e5f-24fdf6ab6d8e",
   "metadata": {},
   "source": [
    "#### 3. str() - it is use to convert the value in string type"
   ]
  },
  {
   "cell_type": "code",
   "execution_count": 16,
   "id": "75b6911c-a49c-4e26-be91-f6e664c213e1",
   "metadata": {},
   "outputs": [
    {
     "name": "stdout",
     "output_type": "stream",
     "text": [
      "<class 'int'>\n",
      "42\n",
      "<class 'str'>\n",
      "42\n"
     ]
    }
   ],
   "source": [
    "value = 42\n",
    "\n",
    "print(type(value))\n",
    "\n",
    "print(value)\n",
    "\n",
    "string_value = str(value)\n",
    "\n",
    "print(type(string_value))\n",
    "\n",
    "print(string_value)\n"
   ]
  },
  {
   "cell_type": "markdown",
   "id": "a0ff08b2-7c40-458f-a2bf-32101d2cb78d",
   "metadata": {},
   "source": [
    "### -----------------------------------------------------------------------------------------------------------------------------------"
   ]
  },
  {
   "attachments": {
    "f4265afc-35e0-4e68-a5d8-6f335d79cbdd.png": {
     "image/png": "[encoded data removed]"
    }
   },
   "cell_type": "markdown",
   "id": "254d3fd4-68a5-4524-bbae-fa4d4f7e7cf2",
   "metadata": {},
   "source": [
    "![Screenshot 2024-02-05 122401.png](attachment:f4265afc-35e0-4e68-a5d8-6f335d79cbdd.png)"
   ]
  },
  {
   "cell_type": "markdown",
   "id": "3a384a29-afea-4ef5-96df-4c5fb6bca68d",
   "metadata": {},
   "source": [
    "### Solution Question 10"
   ]
  },
  {
   "cell_type": "markdown",
   "id": "26b1f023-4d4b-47bb-bd47-db58427a3754",
   "metadata": {},
   "source": [
    "#### 'I have eaten' + 99 + 'burritos'  cause an error because we are trying to concatenate a string ('I have eaten') with an integer (99) without converting the integer to a string first. In Python, you cannot directly concatenate different types without explicit conversion."
   ]
  },
  {
   "cell_type": "code",
   "execution_count": 17,
   "id": "7e91285f-5b5b-4a3c-89e9-4ddff7ccaa85",
   "metadata": {},
   "outputs": [
    {
     "ename": "TypeError",
     "evalue": "can only concatenate str (not \"int\") to str",
     "output_type": "error",
     "traceback": [
      "\u001b[1;31m---------------------------------------------------------------------------\u001b[0m",
      "\u001b[1;31mTypeError\u001b[0m                                 Traceback (most recent call last)",
      "Cell \u001b[1;32mIn[17], line 1\u001b[0m\n\u001b[1;32m----> 1\u001b[0m statement \u001b[38;5;241m=\u001b[39m \u001b[38;5;124;43m'\u001b[39;49m\u001b[38;5;124;43mI have eaten\u001b[39;49m\u001b[38;5;124;43m'\u001b[39;49m\u001b[43m \u001b[49m\u001b[38;5;241;43m+\u001b[39;49m\u001b[43m \u001b[49m\u001b[38;5;241;43m99\u001b[39;49m \u001b[38;5;241m+\u001b[39m \u001b[38;5;124m'\u001b[39m\u001b[38;5;124mburritos\u001b[39m\u001b[38;5;124m'\u001b[39m\n\u001b[0;32m      2\u001b[0m \u001b[38;5;28mprint\u001b[39m(statement)\n",
      "\u001b[1;31mTypeError\u001b[0m: can only concatenate str (not \"int\") to str"
     ]
    }
   ],
   "source": [
    "statement = 'I have eaten' + 99 + 'burritos'\n",
    "print(statement)"
   ]
  },
  {
   "cell_type": "markdown",
   "id": "e8888722-26aa-4d64-a90f-2f220fc3f6f3",
   "metadata": {},
   "source": [
    "### we can fix this error with simply convert the  99 into a string   like this str(99)"
   ]
  },
  {
   "cell_type": "code",
   "execution_count": 19,
   "id": "bf629ab4-9b59-46a7-808a-9632d96a0859",
   "metadata": {},
   "outputs": [
    {
     "name": "stdout",
     "output_type": "stream",
     "text": [
      "I have eaten 99 burritos\n"
     ]
    }
   ],
   "source": [
    "statement = 'I have eaten ' + str(99) + ' burritos'\n",
    "\n",
    "print(statement)"
   ]
  },
  {
   "cell_type": "code",
   "execution_count": null,
   "id": "639774e7-6372-4eba-847b-1308428a5889",
   "metadata": {},
   "outputs": [],
   "source": []
  }
 ],
 "metadata": {
  "kernelspec": {
   "display_name": "Python 3 (ipykernel)",
   "language": "python",
   "name": "python3"
  },
  "language_info": {
   "codemirror_mode": {
    "name": "ipython",
    "version": 3
   },
   "file_extension": ".py",
   "mimetype": "text/x-python",
   "name": "python",
   "nbconvert_exporter": "python",
   "pygments_lexer": "ipython3",
   "version": "3.11.5"
  }
 },
 "nbformat": 4,
 "nbformat_minor": 5
}
